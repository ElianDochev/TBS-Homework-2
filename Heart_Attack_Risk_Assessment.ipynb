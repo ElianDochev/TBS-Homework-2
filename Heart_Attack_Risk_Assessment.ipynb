{
 "cells": [
  {
   "cell_type": "markdown",
   "metadata": {},
   "source": [
    "### Prerequisites"
   ]
  },
  {
   "cell_type": "code",
   "execution_count": 1,
   "metadata": {},
   "outputs": [
    {
     "data": {
      "text/html": [
       "<div>\n",
       "<style scoped>\n",
       "    .dataframe tbody tr th:only-of-type {\n",
       "        vertical-align: middle;\n",
       "    }\n",
       "\n",
       "    .dataframe tbody tr th {\n",
       "        vertical-align: top;\n",
       "    }\n",
       "\n",
       "    .dataframe thead th {\n",
       "        text-align: right;\n",
       "    }\n",
       "</style>\n",
       "<table border=\"1\" class=\"dataframe\">\n",
       "  <thead>\n",
       "    <tr style=\"text-align: right;\">\n",
       "      <th></th>\n",
       "      <th>age</th>\n",
       "      <th>sex</th>\n",
       "      <th>total_cholesterol</th>\n",
       "      <th>ldl</th>\n",
       "      <th>hdl</th>\n",
       "      <th>systolic_bp</th>\n",
       "      <th>diastolic_bp</th>\n",
       "      <th>smoking</th>\n",
       "      <th>diabetes</th>\n",
       "      <th>heart_attack</th>\n",
       "    </tr>\n",
       "  </thead>\n",
       "  <tbody>\n",
       "    <tr>\n",
       "      <th>0</th>\n",
       "      <td>57</td>\n",
       "      <td>1</td>\n",
       "      <td>229.463642</td>\n",
       "      <td>175.879129</td>\n",
       "      <td>39.225687</td>\n",
       "      <td>124.070127</td>\n",
       "      <td>91.378780</td>\n",
       "      <td>0</td>\n",
       "      <td>0</td>\n",
       "      <td>0</td>\n",
       "    </tr>\n",
       "    <tr>\n",
       "      <th>1</th>\n",
       "      <td>58</td>\n",
       "      <td>1</td>\n",
       "      <td>186.464120</td>\n",
       "      <td>128.984916</td>\n",
       "      <td>34.950968</td>\n",
       "      <td>95.492552</td>\n",
       "      <td>64.355040</td>\n",
       "      <td>1</td>\n",
       "      <td>0</td>\n",
       "      <td>0</td>\n",
       "    </tr>\n",
       "    <tr>\n",
       "      <th>2</th>\n",
       "      <td>37</td>\n",
       "      <td>1</td>\n",
       "      <td>251.300719</td>\n",
       "      <td>152.347592</td>\n",
       "      <td>45.913288</td>\n",
       "      <td>99.519335</td>\n",
       "      <td>64.953147</td>\n",
       "      <td>0</td>\n",
       "      <td>1</td>\n",
       "      <td>0</td>\n",
       "    </tr>\n",
       "    <tr>\n",
       "      <th>3</th>\n",
       "      <td>55</td>\n",
       "      <td>1</td>\n",
       "      <td>192.058908</td>\n",
       "      <td>116.803684</td>\n",
       "      <td>67.208925</td>\n",
       "      <td>122.460002</td>\n",
       "      <td>73.821382</td>\n",
       "      <td>0</td>\n",
       "      <td>0</td>\n",
       "      <td>0</td>\n",
       "    </tr>\n",
       "    <tr>\n",
       "      <th>4</th>\n",
       "      <td>53</td>\n",
       "      <td>1</td>\n",
       "      <td>151.203448</td>\n",
       "      <td>107.017396</td>\n",
       "      <td>60.693838</td>\n",
       "      <td>123.022257</td>\n",
       "      <td>81.121946</td>\n",
       "      <td>0</td>\n",
       "      <td>1</td>\n",
       "      <td>0</td>\n",
       "    </tr>\n",
       "  </tbody>\n",
       "</table>\n",
       "</div>"
      ],
      "text/plain": [
       "   age  sex  total_cholesterol         ldl        hdl  systolic_bp  \\\n",
       "0   57    1         229.463642  175.879129  39.225687   124.070127   \n",
       "1   58    1         186.464120  128.984916  34.950968    95.492552   \n",
       "2   37    1         251.300719  152.347592  45.913288    99.519335   \n",
       "3   55    1         192.058908  116.803684  67.208925   122.460002   \n",
       "4   53    1         151.203448  107.017396  60.693838   123.022257   \n",
       "\n",
       "   diastolic_bp  smoking  diabetes  heart_attack  \n",
       "0     91.378780        0         0             0  \n",
       "1     64.355040        1         0             0  \n",
       "2     64.953147        0         1             0  \n",
       "3     73.821382        0         0             0  \n",
       "4     81.121946        0         1             0  "
      ]
     },
     "execution_count": 1,
     "metadata": {},
     "output_type": "execute_result"
    }
   ],
   "source": [
    "import matplotlib.pyplot as plt\n",
    "import seaborn as sns\n",
    "import pandas as pd\n",
    "import numpy as np\n",
    "import os\n",
    "\n",
    "df = pd.read_csv('Heart_Attack_Risk_Assessment.csv')\n",
    "df.head()"
   ]
  },
  {
   "cell_type": "markdown",
   "metadata": {},
   "source": [
    "### Step 1. Descriptive Analysis"
   ]
  },
  {
   "cell_type": "code",
   "execution_count": 2,
   "metadata": {},
   "outputs": [
    {
     "name": "stdout",
     "output_type": "stream",
     "text": [
      "<class 'pandas.core.frame.DataFrame'>\n",
      "RangeIndex: 1000 entries, 0 to 999\n",
      "Data columns (total 10 columns):\n",
      " #   Column             Non-Null Count  Dtype  \n",
      "---  ------             --------------  -----  \n",
      " 0   age                1000 non-null   int64  \n",
      " 1   sex                1000 non-null   int64  \n",
      " 2   total_cholesterol  1000 non-null   float64\n",
      " 3   ldl                1000 non-null   float64\n",
      " 4   hdl                1000 non-null   float64\n",
      " 5   systolic_bp        1000 non-null   float64\n",
      " 6   diastolic_bp       1000 non-null   float64\n",
      " 7   smoking            1000 non-null   int64  \n",
      " 8   diabetes           1000 non-null   int64  \n",
      " 9   heart_attack       1000 non-null   int64  \n",
      "dtypes: float64(5), int64(5)\n",
      "memory usage: 78.2 KB\n"
     ]
    }
   ],
   "source": [
    "df.info()"
   ]
  }
 ],
 "metadata": {
  "kernelspec": {
   "display_name": "tbs",
   "language": "python",
   "name": "python3"
  },
  "language_info": {
   "codemirror_mode": {
    "name": "ipython",
    "version": 3
   },
   "file_extension": ".py",
   "mimetype": "text/x-python",
   "name": "python",
   "nbconvert_exporter": "python",
   "pygments_lexer": "ipython3",
   "version": "3.10.14"
  }
 },
 "nbformat": 4,
 "nbformat_minor": 2
}
