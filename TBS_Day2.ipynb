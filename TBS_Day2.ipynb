{
 "cells": [
  {
   "cell_type": "markdown",
   "metadata": {},
   "source": [
    "# Exploratory Data Analysis\n",
    "\n",
    "### Database PI-CAI \n",
    "https://github.com/DIAGNijmegen/picai_labels/blob/main/clinical_information/marksheet.csv\n",
    "\n",
    "### Challenge website\n",
    "https://pi-cai.grand-challenge.org/\n",
    "\n",
    "### Reference bibtex:\n",
    "@ARTICLE{PICAI_BIAS,\n",
    "    author = {Anindo Saha, Jasper J. Twilt, Joeran S. Bosma, Bram van Ginneken, Derya Yakar, Mattijs Elschot, Jeroen Veltman, Jurgen Fütterer, Maarten de Rooij, Henkjan Huisman},\n",
    "    title  = {{Artificial Intelligence and Radiologists at Prostate Cancer Detection in MRI: The PI-CAI Challenge (Study Protocol)}}, \n",
    "    year   = {2022},\n",
    "    doi    = {10.5281/zenodo.6667655}\n",
    "}\n",
    "\n",
    "### License:\n",
    "CC BY-NC 4.0"
   ]
  },
  {
   "cell_type": "markdown",
   "metadata": {},
   "source": [
    "## Step 0. Loading some libraries, packages, and database"
   ]
  },
  {
   "cell_type": "code",
   "execution_count": 1,
   "metadata": {},
   "outputs": [
    {
     "name": "stdout",
     "output_type": "stream",
     "text": [
      "Python version:  3.8.5 \n"
     ]
    }
   ],
   "source": [
    "import sys\n",
    "print('Python version: ', sys.version[0:6])"
   ]
  },
  {
   "cell_type": "code",
   "execution_count": null,
   "metadata": {},
   "outputs": [],
   "source": [
    "# Run the following command to ensure that the latest version of pip is installed:\n",
    "!pip install --upgrade pip"
   ]
  },
  {
   "cell_type": "code",
   "execution_count": 1,
   "metadata": {},
   "outputs": [
    {
     "name": "stdout",
     "output_type": "stream",
     "text": [
      "seaborn version:     0.13.2\n",
      "numpy version:       2.1.1\n",
      "pandas version:      2.2.3\n"
     ]
    }
   ],
   "source": [
    "# Loading main libraries \n",
    "import matplotlib.pyplot as plt  # Visualization library\n",
    "import seaborn as sns  # Another Visualization library\n",
    "print('seaborn version:    ',sns.__version__) \n",
    "import numpy as np               # Basic mathematics\n",
    "print('numpy version:      ',np.__version__)\n",
    "import os                        # OS options in line with Python\n",
    "import pandas as pd              # Dataframes library\n",
    "print('pandas version:     ',pd.__version__)"
   ]
  },
  {
   "cell_type": "code",
   "execution_count": 2,
   "metadata": {},
   "outputs": [],
   "source": [
    "# Loading database\n",
    "url = 'https://github.com/DIAGNijmegen/picai_labels/blob/main/clinical_information/marksheet.csv?raw=true'\n",
    "data = pd.read_csv(url)"
   ]
  },
  {
   "cell_type": "markdown",
   "metadata": {},
   "source": [
    "## Step 1. Descriptive Analysis"
   ]
  },
  {
   "cell_type": "markdown",
   "metadata": {},
   "source": [
    "### 1.1. Display the content of the data table that we just loaded"
   ]
  },
  {
   "cell_type": "code",
   "execution_count": 3,
   "metadata": {},
   "outputs": [
    {
     "data": {
      "text/html": [
       "<div>\n",
       "<style scoped>\n",
       "    .dataframe tbody tr th:only-of-type {\n",
       "        vertical-align: middle;\n",
       "    }\n",
       "\n",
       "    .dataframe tbody tr th {\n",
       "        vertical-align: top;\n",
       "    }\n",
       "\n",
       "    .dataframe thead th {\n",
       "        text-align: right;\n",
       "    }\n",
       "</style>\n",
       "<table border=\"1\" class=\"dataframe\">\n",
       "  <thead>\n",
       "    <tr style=\"text-align: right;\">\n",
       "      <th></th>\n",
       "      <th>patient_id</th>\n",
       "      <th>study_id</th>\n",
       "      <th>mri_date</th>\n",
       "      <th>patient_age</th>\n",
       "      <th>psa</th>\n",
       "      <th>psad</th>\n",
       "      <th>prostate_volume</th>\n",
       "      <th>histopath_type</th>\n",
       "      <th>lesion_GS</th>\n",
       "      <th>lesion_ISUP</th>\n",
       "      <th>case_ISUP</th>\n",
       "      <th>case_csPCa</th>\n",
       "      <th>center</th>\n",
       "    </tr>\n",
       "  </thead>\n",
       "  <tbody>\n",
       "    <tr>\n",
       "      <th>0</th>\n",
       "      <td>10000</td>\n",
       "      <td>1000000</td>\n",
       "      <td>2019-07-02</td>\n",
       "      <td>73</td>\n",
       "      <td>7.70</td>\n",
       "      <td>NaN</td>\n",
       "      <td>55.0</td>\n",
       "      <td>MRBx</td>\n",
       "      <td>0+0</td>\n",
       "      <td>0</td>\n",
       "      <td>0</td>\n",
       "      <td>NO</td>\n",
       "      <td>PCNN</td>\n",
       "    </tr>\n",
       "    <tr>\n",
       "      <th>1</th>\n",
       "      <td>10001</td>\n",
       "      <td>1000001</td>\n",
       "      <td>2016-05-27</td>\n",
       "      <td>64</td>\n",
       "      <td>8.70</td>\n",
       "      <td>0.09</td>\n",
       "      <td>102.0</td>\n",
       "      <td>NaN</td>\n",
       "      <td>NaN</td>\n",
       "      <td>NaN</td>\n",
       "      <td>0</td>\n",
       "      <td>NO</td>\n",
       "      <td>RUMC</td>\n",
       "    </tr>\n",
       "    <tr>\n",
       "      <th>2</th>\n",
       "      <td>10002</td>\n",
       "      <td>1000002</td>\n",
       "      <td>2021-04-18</td>\n",
       "      <td>58</td>\n",
       "      <td>4.20</td>\n",
       "      <td>0.06</td>\n",
       "      <td>74.0</td>\n",
       "      <td>NaN</td>\n",
       "      <td>NaN</td>\n",
       "      <td>NaN</td>\n",
       "      <td>0</td>\n",
       "      <td>NO</td>\n",
       "      <td>ZGT</td>\n",
       "    </tr>\n",
       "    <tr>\n",
       "      <th>3</th>\n",
       "      <td>10003</td>\n",
       "      <td>1000003</td>\n",
       "      <td>2019-04-05</td>\n",
       "      <td>72</td>\n",
       "      <td>13.00</td>\n",
       "      <td>NaN</td>\n",
       "      <td>71.5</td>\n",
       "      <td>SysBx</td>\n",
       "      <td>0+0</td>\n",
       "      <td>0</td>\n",
       "      <td>0</td>\n",
       "      <td>NO</td>\n",
       "      <td>ZGT</td>\n",
       "    </tr>\n",
       "    <tr>\n",
       "      <th>4</th>\n",
       "      <td>10004</td>\n",
       "      <td>1000004</td>\n",
       "      <td>2020-10-21</td>\n",
       "      <td>67</td>\n",
       "      <td>8.00</td>\n",
       "      <td>0.10</td>\n",
       "      <td>78.0</td>\n",
       "      <td>SysBx+MRBx</td>\n",
       "      <td>0+0,0+0</td>\n",
       "      <td>0,0</td>\n",
       "      <td>0</td>\n",
       "      <td>NO</td>\n",
       "      <td>RUMC</td>\n",
       "    </tr>\n",
       "    <tr>\n",
       "      <th>5</th>\n",
       "      <td>10005</td>\n",
       "      <td>1000005</td>\n",
       "      <td>2012-07-18</td>\n",
       "      <td>64</td>\n",
       "      <td>12.10</td>\n",
       "      <td>0.24</td>\n",
       "      <td>51.0</td>\n",
       "      <td>MRBx</td>\n",
       "      <td>4+3,0+0</td>\n",
       "      <td>3,0</td>\n",
       "      <td>3</td>\n",
       "      <td>YES</td>\n",
       "      <td>RUMC</td>\n",
       "    </tr>\n",
       "    <tr>\n",
       "      <th>6</th>\n",
       "      <td>10006</td>\n",
       "      <td>1000006</td>\n",
       "      <td>2020-10-23</td>\n",
       "      <td>73</td>\n",
       "      <td>6.20</td>\n",
       "      <td>0.23</td>\n",
       "      <td>27.0</td>\n",
       "      <td>SysBx+MRBx</td>\n",
       "      <td>0+0,3+3</td>\n",
       "      <td>0,1</td>\n",
       "      <td>1</td>\n",
       "      <td>NO</td>\n",
       "      <td>ZGT</td>\n",
       "    </tr>\n",
       "    <tr>\n",
       "      <th>7</th>\n",
       "      <td>10007</td>\n",
       "      <td>1000007</td>\n",
       "      <td>2020-10-31</td>\n",
       "      <td>68</td>\n",
       "      <td>3.83</td>\n",
       "      <td>0.09</td>\n",
       "      <td>41.0</td>\n",
       "      <td>SysBx+MRBx</td>\n",
       "      <td>3+3</td>\n",
       "      <td>1</td>\n",
       "      <td>1</td>\n",
       "      <td>NO</td>\n",
       "      <td>RUMC</td>\n",
       "    </tr>\n",
       "    <tr>\n",
       "      <th>8</th>\n",
       "      <td>10008</td>\n",
       "      <td>1000008</td>\n",
       "      <td>2020-12-06</td>\n",
       "      <td>81</td>\n",
       "      <td>11.10</td>\n",
       "      <td>0.20</td>\n",
       "      <td>56.0</td>\n",
       "      <td>SysBx+MRBx</td>\n",
       "      <td>4+3,3+4</td>\n",
       "      <td>3,2</td>\n",
       "      <td>3</td>\n",
       "      <td>YES</td>\n",
       "      <td>ZGT</td>\n",
       "    </tr>\n",
       "    <tr>\n",
       "      <th>9</th>\n",
       "      <td>10009</td>\n",
       "      <td>1000009</td>\n",
       "      <td>2017-11-02</td>\n",
       "      <td>65</td>\n",
       "      <td>24.00</td>\n",
       "      <td>NaN</td>\n",
       "      <td>120.0</td>\n",
       "      <td>SysBx</td>\n",
       "      <td>0+0</td>\n",
       "      <td>0</td>\n",
       "      <td>0</td>\n",
       "      <td>NO</td>\n",
       "      <td>PCNN</td>\n",
       "    </tr>\n",
       "  </tbody>\n",
       "</table>\n",
       "</div>"
      ],
      "text/plain": [
       "   patient_id  study_id    mri_date  patient_age    psa  psad  \\\n",
       "0       10000   1000000  2019-07-02           73   7.70   NaN   \n",
       "1       10001   1000001  2016-05-27           64   8.70  0.09   \n",
       "2       10002   1000002  2021-04-18           58   4.20  0.06   \n",
       "3       10003   1000003  2019-04-05           72  13.00   NaN   \n",
       "4       10004   1000004  2020-10-21           67   8.00  0.10   \n",
       "5       10005   1000005  2012-07-18           64  12.10  0.24   \n",
       "6       10006   1000006  2020-10-23           73   6.20  0.23   \n",
       "7       10007   1000007  2020-10-31           68   3.83  0.09   \n",
       "8       10008   1000008  2020-12-06           81  11.10  0.20   \n",
       "9       10009   1000009  2017-11-02           65  24.00   NaN   \n",
       "\n",
       "   prostate_volume histopath_type lesion_GS lesion_ISUP  case_ISUP case_csPCa  \\\n",
       "0             55.0           MRBx       0+0           0          0         NO   \n",
       "1            102.0            NaN       NaN         NaN          0         NO   \n",
       "2             74.0            NaN       NaN         NaN          0         NO   \n",
       "3             71.5          SysBx       0+0           0          0         NO   \n",
       "4             78.0     SysBx+MRBx   0+0,0+0         0,0          0         NO   \n",
       "5             51.0           MRBx   4+3,0+0         3,0          3        YES   \n",
       "6             27.0     SysBx+MRBx   0+0,3+3         0,1          1         NO   \n",
       "7             41.0     SysBx+MRBx       3+3           1          1         NO   \n",
       "8             56.0     SysBx+MRBx   4+3,3+4         3,2          3        YES   \n",
       "9            120.0          SysBx       0+0           0          0         NO   \n",
       "\n",
       "  center  \n",
       "0   PCNN  \n",
       "1   RUMC  \n",
       "2    ZGT  \n",
       "3    ZGT  \n",
       "4   RUMC  \n",
       "5   RUMC  \n",
       "6    ZGT  \n",
       "7   RUMC  \n",
       "8    ZGT  \n",
       "9   PCNN  "
      ]
     },
     "execution_count": 3,
     "metadata": {},
     "output_type": "execute_result"
    }
   ],
   "source": [
    "data.head(10)  # Similarly in R, use view() ; str() ; summary()"
   ]
  },
  {
   "cell_type": "markdown",
   "metadata": {},
   "source": [
    "### 1.2. Display the internal structure of the data table\n",
    "\n",
    "It indicates in a compact way the type of variables. The presence of missing values can be seen"
   ]
  },
  {
   "cell_type": "code",
   "execution_count": 8,
   "metadata": {},
   "outputs": [
    {
     "name": "stdout",
     "output_type": "stream",
     "text": [
      "<class 'pandas.core.frame.DataFrame'>\n",
      "RangeIndex: 1500 entries, 0 to 1499\n",
      "Data columns (total 13 columns):\n",
      " #   Column           Non-Null Count  Dtype         \n",
      "---  ------           --------------  -----         \n",
      " 0   patient_id       1500 non-null   int64         \n",
      " 1   study_id         1500 non-null   int64         \n",
      " 2   mri_date         1500 non-null   datetime64[ns]\n",
      " 3   patient_age      1500 non-null   int64         \n",
      " 4   psa              1460 non-null   float64       \n",
      " 5   psad             1049 non-null   float64       \n",
      " 6   prostate_volume  1473 non-null   float64       \n",
      " 7   histopath_type   1001 non-null   object        \n",
      " 8   lesion_GS        1001 non-null   object        \n",
      " 9   lesion_ISUP      1001 non-null   object        \n",
      " 10  case_ISUP        1500 non-null   int64         \n",
      " 11  case_csPCa       1500 non-null   object        \n",
      " 12  center           1500 non-null   object        \n",
      "dtypes: datetime64[ns](1), float64(3), int64(4), object(5)\n",
      "memory usage: 152.5+ KB\n",
      "min date: 2011-12-07 00:00:00\n",
      "max date: 2021-08-15 00:00:00\n"
     ]
    }
   ],
   "source": [
    "# convert date to datetime\n",
    "data['mri_date'] = pd.to_datetime(data['mri_date'])\n",
    "data.info()\n",
    "# get min and max date\n",
    "min_date = data['mri_date'].min()\n",
    "max_date = data['mri_date'].max()\n",
    "print('min date:', min_date)\n",
    "print('max date:', max_date)"
   ]
  },
  {
   "cell_type": "markdown",
   "metadata": {},
   "source": [
    "### 1.3. Display a general summary statistics of the variables in the table\n",
    "showing the values: minimum, maximum, mean, median, first and third quartile for numerical variables"
   ]
  },
  {
   "cell_type": "code",
   "execution_count": null,
   "metadata": {},
   "outputs": [],
   "source": [
    "data.describe()"
   ]
  },
  {
   "cell_type": "markdown",
   "metadata": {},
   "source": [
    "A more general summary with all the variables, not only the numerical ones"
   ]
  },
  {
   "cell_type": "code",
   "execution_count": null,
   "metadata": {},
   "outputs": [],
   "source": [
    "data.describe(include='all').T"
   ]
  },
  {
   "cell_type": "markdown",
   "metadata": {},
   "source": [
    "#### 1.4. Number of different categories"
   ]
  },
  {
   "cell_type": "code",
   "execution_count": null,
   "metadata": {},
   "outputs": [],
   "source": [
    "data.nunique()"
   ]
  },
  {
   "cell_type": "markdown",
   "metadata": {},
   "source": [
    "### Conclusions\n",
    "\n",
    "The main characteristics of the data table are:\n",
    "* The total number of observations in the data set is nnn.\n",
    "* The total number of variables is mmm, m1 of AAA type, m2 of BBB type.\n",
    "* The time range covers from DATE1 to DATE2.\n",
    "* Presents rrr variables of the CCC type."
   ]
  },
  {
   "cell_type": "markdown",
   "metadata": {},
   "source": [
    "### 1.4. Graphics representation of numerical variables\n",
    "\n",
    "Histograms, line graphs, bars or sectors, among others, to observe the behavior of the data distribution."
   ]
  },
  {
   "cell_type": "markdown",
   "metadata": {},
   "source": [
    "#### Let's separate Numerical variables from the rest of the variables\n",
    "Let's name them all as Categorical"
   ]
  },
  {
   "cell_type": "code",
   "execution_count": null,
   "metadata": {},
   "outputs": [],
   "source": [
    "num_cols = data.select_dtypes(include=np.number).columns.tolist()\n",
    "print(\"\\nNumerical Variables:\")\n",
    "print(num_cols)\n",
    "\n",
    "cat_cols=data.select_dtypes(include=['object']).columns.tolist()\n",
    "print(\"\\nCategorical Variables:\")\n",
    "print(cat_cols)"
   ]
  },
  {
   "cell_type": "markdown",
   "metadata": {},
   "source": [
    "#### 1.4.1. EDA Numerical Variables Univariate Analysis"
   ]
  },
  {
   "cell_type": "code",
   "execution_count": null,
   "metadata": {},
   "outputs": [],
   "source": [
    "# Histograms and Boxplots\n",
    "\n",
    "for col in num_cols:\n",
    "    print(col)\n",
    "    plt.figure(figsize = (15, 4))\n",
    "    plt.subplot(1, 2, 1)\n",
    "    data[col].hist(grid=False)  # Histogram \n",
    "    plt.ylabel('count')\n",
    "    plt.subplot(1, 2, 2)\n",
    "    sns.boxplot(x=data[col])  # Boxplot\n",
    "    plt.show()"
   ]
  },
  {
   "cell_type": "code",
   "execution_count": null,
   "metadata": {},
   "outputs": [],
   "source": [
    "# Density Distribution plot (kind=\"ecdf\")\n",
    "\n",
    "for col in num_cols:\n",
    "    print(col)\n",
    "    sns.displot(data=data[col], kind=\"kde\") \n",
    "    plt.show()"
   ]
  },
  {
   "cell_type": "markdown",
   "metadata": {},
   "source": [
    "### Conclusions\n",
    "\n",
    "For instance: \"Observing the histograms of the variables, we can conclude that they present a distribution skewed to the left, with values closer to 0, although this bias is much more pronounced in the XXX variable.\""
   ]
  },
  {
   "cell_type": "markdown",
   "metadata": {},
   "source": [
    "#### 1.4.2. EDA Categorical Variables Univariate Analysis"
   ]
  },
  {
   "cell_type": "code",
   "execution_count": null,
   "metadata": {},
   "outputs": [],
   "source": [
    "# Barplots\n",
    "\n",
    "fig, axes = plt.subplots(2, 2, figsize = (18, 18))\n",
    "\n",
    "fig.suptitle('Bar plot for all categorical variables in the dataset')\n",
    "\n",
    "sns.countplot(ax = axes[0, 0], x = 'histopath_type', data = data, color = 'blue', \n",
    "              order = data['histopath_type'].value_counts().index);\n",
    "\n",
    "sns.countplot(ax = axes[0, 1], x = 'lesion_GS', data = data, color = 'blue', \n",
    "              order = data['lesion_GS'].head(100).value_counts().index);\n",
    "\n",
    "sns.countplot(ax = axes[1, 0], x = 'lesion_ISUP', data = data, color = 'blue', \n",
    "              order = data['lesion_ISUP'].head(100).value_counts().index);\n",
    "\n",
    "sns.countplot(ax = axes[1, 1], x = 'case_csPCa', data = data, color = 'blue', \n",
    "              order = data['case_csPCa'].value_counts().index);\n",
    "\n",
    "axes[0][1].tick_params(labelrotation=45);\n",
    "axes[1][0].tick_params(labelrotation=45);"
   ]
  },
  {
   "cell_type": "markdown",
   "metadata": {},
   "source": [
    "### Conclusions\n",
    "\n",
    "For instance: Number of different categories, possible wrong encoding, ..."
   ]
  },
  {
   "cell_type": "markdown",
   "metadata": {},
   "source": [
    "#### 1.4.3. EDA Numerical Variables Bivariate Analysis"
   ]
  },
  {
   "cell_type": "code",
   "execution_count": null,
   "metadata": {},
   "outputs": [],
   "source": [
    "plt.figure(figsize=(13,17))\n",
    "sns.pairplot(data=data, kind='reg', diag_kind='kde',\n",
    "             plot_kws={'line_kws':{'color':'red'}})\n",
    "plt.show()"
   ]
  },
  {
   "cell_type": "markdown",
   "metadata": {},
   "source": [
    "### Conclusions\n",
    "\n",
    "For instance: Highly correlation, ...."
   ]
  },
  {
   "cell_type": "markdown",
   "metadata": {},
   "source": [
    "## Step 2. Variable Types Conversion"
   ]
  },
  {
   "cell_type": "markdown",
   "metadata": {},
   "source": [
    "Let's remember"
   ]
  },
  {
   "cell_type": "code",
   "execution_count": null,
   "metadata": {},
   "outputs": [],
   "source": [
    "# Loading database\n",
    "url = 'https://github.com/DIAGNijmegen/picai_labels/blob/main/clinical_information/marksheet.csv?raw=true'\n",
    "data = pd.read_csv(url)\n",
    "data.info()"
   ]
  },
  {
   "cell_type": "markdown",
   "metadata": {},
   "source": [
    "### 2.1. Conversion from string to datetime, then to float"
   ]
  },
  {
   "cell_type": "code",
   "execution_count": null,
   "metadata": {},
   "outputs": [],
   "source": [
    "# Convert the date string in 'mri-date' to a datetime object\n",
    "date_objects = pd.to_datetime(data['mri_date'])\n",
    "\n",
    "# Convert datetime object in 'mri-date' to Unix timestamps (float64 numbers)\n",
    "data['mri_date'] = date_objects.astype(int)/ 10**9  # Convert nanoseconds to seconds\n",
    "\n",
    "data.info()"
   ]
  },
  {
   "cell_type": "markdown",
   "metadata": {},
   "source": [
    "### 2.2. Conversion from integer to float"
   ]
  },
  {
   "cell_type": "code",
   "execution_count": null,
   "metadata": {},
   "outputs": [],
   "source": [
    "# Convert int64 features to float64\n",
    "data['patient_id'] = data['patient_id'].astype(\"float64\")\n",
    "data['study_id'] = data['study_id'].astype(\"float64\")\n",
    "data['patient_age'] = data['patient_age'].astype(\"float64\")\n",
    "data['case_ISUP'] = data['case_ISUP'].astype(\"float64\")\n",
    "\n",
    "data.info()"
   ]
  },
  {
   "cell_type": "markdown",
   "metadata": {},
   "source": [
    "### 2.3. Conversion from logical/string (object) to float"
   ]
  },
  {
   "cell_type": "code",
   "execution_count": null,
   "metadata": {},
   "outputs": [],
   "source": [
    "# Mapping for conversion in 'case_csPCa' and handling NaN\n",
    "mapping = {\"YES\": 1.0, \"NO\": 0.0}\n",
    "data['case_csPCa'] = data['case_csPCa'].map(mapping).fillna(np.nan)"
   ]
  },
  {
   "cell_type": "markdown",
   "metadata": {},
   "source": [
    "... and this is the result"
   ]
  },
  {
   "cell_type": "code",
   "execution_count": null,
   "metadata": {},
   "outputs": [],
   "source": [
    "data.info()"
   ]
  },
  {
   "cell_type": "markdown",
   "metadata": {},
   "source": [
    "### 2.4. A mapping Conversion a bit more complicated"
   ]
  },
  {
   "cell_type": "code",
   "execution_count": null,
   "metadata": {},
   "outputs": [],
   "source": [
    "# Create a mapping for conversion from labels to numbers excluding pairs with NaN values\n",
    "list_labels_histopath = list(data['histopath_type'].dropna().unique())\n",
    "list_numbers_histopath = list(range(1,len(list_labels_histopath)+1))\n",
    "\n",
    "mapping = dict(zip(list_labels_histopath,list_numbers_histopath))\n",
    "\n",
    "data['histopath_type'] = data['histopath_type'].map(mapping)\n",
    "\n",
    "data.info()"
   ]
  },
  {
   "cell_type": "markdown",
   "metadata": {},
   "source": [
    "### Conclusions\n",
    "\n",
    "For instance: informative data,...."
   ]
  },
  {
   "cell_type": "markdown",
   "metadata": {},
   "source": [
    "## Step 3. Missing Data Detection"
   ]
  },
  {
   "cell_type": "markdown",
   "metadata": {},
   "source": [
    "### 3.1. Let's start with a Reduced Significative Dataset"
   ]
  },
  {
   "cell_type": "code",
   "execution_count": null,
   "metadata": {},
   "outputs": [],
   "source": [
    "# List of feature names to extract\n",
    "features_to_extract = ['patient_age', 'psa', 'psad', 'prostate_volume', 'case_ISUP', 'case_csPCa']\n",
    "\n",
    "data_reduced = data[features_to_extract]\n",
    "\n",
    "data_reduced.info()"
   ]
  },
  {
   "cell_type": "markdown",
   "metadata": {},
   "source": [
    "### 3.2. Missing Data Discovery\n",
    "Number and Percentage"
   ]
  },
  {
   "cell_type": "code",
   "execution_count": null,
   "metadata": {},
   "outputs": [],
   "source": [
    "from numpy import nan\n",
    "data_working = data_reduced\n",
    "\n",
    "data_working.isnull().sum()"
   ]
  },
  {
   "cell_type": "code",
   "execution_count": null,
   "metadata": {},
   "outputs": [],
   "source": [
    "data_working.isnull().mean()*100"
   ]
  },
  {
   "cell_type": "markdown",
   "metadata": {},
   "source": [
    "### 3.4. Simple Data Imputation"
   ]
  },
  {
   "cell_type": "markdown",
   "metadata": {},
   "source": [
    "#### 3.3.1 The easiest strategy. Remove rows with missing values"
   ]
  },
  {
   "cell_type": "markdown",
   "metadata": {},
   "source": [
    "data_working.dropna(axis=0, how='any', subset=None, inplace=False)"
   ]
  },
  {
   "cell_type": "markdown",
   "metadata": {},
   "source": [
    "#### 3.3.1 Impute missing values with the mean"
   ]
  },
  {
   "cell_type": "code",
   "execution_count": null,
   "metadata": {},
   "outputs": [],
   "source": [
    "data_working = data_reduced\n",
    "\n",
    "# fill missing values with mean column values\n",
    "data_imputed_mean = data_working.fillna(data_working.mean())\n",
    "\n",
    "# count the number of NaN values in each column\n",
    "data_imputed_mean.head(20)"
   ]
  },
  {
   "cell_type": "code",
   "execution_count": null,
   "metadata": {},
   "outputs": [],
   "source": [
    "data_working.head(20)"
   ]
  },
  {
   "cell_type": "code",
   "execution_count": null,
   "metadata": {},
   "outputs": [],
   "source": [
    "data_imputed_mean.isnull().mean()*100"
   ]
  },
  {
   "cell_type": "markdown",
   "metadata": {},
   "source": [
    "### Conclusions\n",
    "\n",
    "For instance: what I did with missing data is XXX because YYY."
   ]
  },
  {
   "cell_type": "markdown",
   "metadata": {},
   "source": [
    "## Step 4. Outliers Detection"
   ]
  },
  {
   "cell_type": "markdown",
   "metadata": {},
   "source": [
    "#### 4.1. Continuous Variables"
   ]
  },
  {
   "cell_type": "code",
   "execution_count": null,
   "metadata": {},
   "outputs": [],
   "source": [
    "num_cols = data_imputed_mean.select_dtypes(include=np.number).columns.tolist()\n",
    "print(\"\\nNumerical Variables:\")\n",
    "print(num_cols)\n",
    "\n",
    "# Histograms and Boxplots\n",
    "\n",
    "for col in num_cols:\n",
    "    print(col)\n",
    "    plt.figure(figsize = (15, 4))\n",
    "    sns.boxplot(x=data_imputed_mean[col])  # Boxplot\n",
    "    plt.show()"
   ]
  },
  {
   "cell_type": "markdown",
   "metadata": {},
   "source": [
    "#### 4.2. Removing Outliers (IQR-based)"
   ]
  },
  {
   "cell_type": "code",
   "execution_count": null,
   "metadata": {},
   "outputs": [],
   "source": [
    "data_imputed_mean.describe()"
   ]
  },
  {
   "cell_type": "code",
   "execution_count": null,
   "metadata": {},
   "outputs": [],
   "source": [
    "def outlier_treatment(datacolumn):\n",
    " sorted(datacolumn)\n",
    " Q1,Q3 = np.percentile(datacolumn , [25,75])\n",
    " IQR = Q3 - Q1\n",
    " lower_range = Q1 - (1.5 * IQR)\n",
    " upper_range = Q3 + (1.5 * IQR)\n",
    " return lower_range,upper_range"
   ]
  },
  {
   "cell_type": "code",
   "execution_count": null,
   "metadata": {},
   "outputs": [],
   "source": [
    "data_im_outlier = data_imputed_mean\n",
    "for col in num_cols:\n",
    "    print(col)\n",
    "    lowerbound,upperbound = outlier_treatment(data_im_outlier[col])\n",
    "    data_im_outlier.drop(data_im_outlier[ (data_im_outlier[col] > upperbound) | (data_im_outlier[col] < lowerbound) ].index, inplace=True)\n"
   ]
  },
  {
   "cell_type": "code",
   "execution_count": null,
   "metadata": {},
   "outputs": [],
   "source": [
    "for col in num_cols:\n",
    "    print(col)\n",
    "    plt.figure(figsize = (15, 4))\n",
    "    sns.boxplot(x=data_im_outlier[col])  # Boxplot\n",
    "    plt.show()"
   ]
  },
  {
   "cell_type": "markdown",
   "metadata": {},
   "source": [
    "## Step 5. Correlation Analysis"
   ]
  },
  {
   "cell_type": "markdown",
   "metadata": {},
   "source": [
    "### EDA Numerical Variables Bivariate Analysis"
   ]
  },
  {
   "cell_type": "code",
   "execution_count": null,
   "metadata": {},
   "outputs": [],
   "source": [
    "data_im_outlier.info()"
   ]
  },
  {
   "cell_type": "markdown",
   "metadata": {},
   "source": [
    "### 5.1. Scatterplot"
   ]
  },
  {
   "cell_type": "code",
   "execution_count": null,
   "metadata": {},
   "outputs": [],
   "source": [
    "plt.figure(figsize=(13,17))\n",
    "sns.pairplot(data=data_im_outlier, kind='reg', diag_kind='kde',\n",
    "             plot_kws={'line_kws':{'color':'red'}})\n",
    "plt.show()"
   ]
  },
  {
   "cell_type": "markdown",
   "metadata": {},
   "source": [
    "### 5.1. Cluster Map of the correlation matrix"
   ]
  },
  {
   "cell_type": "code",
   "execution_count": null,
   "metadata": {},
   "outputs": [],
   "source": [
    "# Create a Cluster Map of the correlation matrix\n",
    "sns.clustermap(data_im_outlier.corr(), annot=True, cmap=\"coolwarm\", figsize=(8, 6))\n",
    "plt.title(\"Cluster Map of Marketsheet_reduced Dataset Correlation\")\n",
    "plt.show()"
   ]
  },
  {
   "cell_type": "code",
   "execution_count": null,
   "metadata": {},
   "outputs": [],
   "source": []
  }
 ],
 "metadata": {
  "kernelspec": {
   "display_name": "tbs",
   "language": "python",
   "name": "python3"
  },
  "language_info": {
   "codemirror_mode": {
    "name": "ipython",
    "version": 3
   },
   "file_extension": ".py",
   "mimetype": "text/x-python",
   "name": "python",
   "nbconvert_exporter": "python",
   "pygments_lexer": "ipython3",
   "version": "3.10.14"
  }
 },
 "nbformat": 4,
 "nbformat_minor": 4
}
